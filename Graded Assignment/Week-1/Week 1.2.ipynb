Shape of data for validation

dataset = pd.read_csv('/content/drive/MyDrive/V5.csv')
dataset.shape


1. Select all the even indexed rows from the given dataset. What is the value in the 3rd indexed column of the 0th indexed row in the selected dataframe. (row/ column indexed from zero(0) in python/pandas)

df=(dataset.loc[0::2])
df.loc[0:4:1]
print(df.iloc[0,3])

2. Select all the even indexed rows from the given dataset. What is the value in the 3rd indexed column of the 332th indexed row in the selected dataframe. (row/ column indexed from zero(0))

df=(dataset.loc[0::2])
df.loc[664:666:1]
print(df.iloc[332,3])

3. Select all the odd indexed rows from the given dataset. What is the value in the 3rd indexed column of the 332th indexed row in the selected dataframe. (row/ column indexed from zero(0))
 Please consider case sensitivity while giving your solution capital letter ≠ small letter
  If it is a string don't write quotes in the solution.

df=(dataset.loc[1::2])
df.loc[665:669:1]
print(df.iloc[332,3])

4. Select all the odd indexed columns from the given dataset. What is the value in the 5th indexed column of the 100th indexed row in the selected dataframe. (row/ column indexed from zero(0))
Please consider case sensitivity while giving your solution capital letter ≠ small letter
If it is a string don't write quotes in the solution.

df=(dataset.loc[1::2])
df.loc[201:205:1]
print(df.iloc[100,5])

5. Select all the even indexed columns and even indexed rows from the given dataset. What is the value in the 3th indexed column of the 255th indexed row in the selected dataframe. (row/ column indexed/starts from zero(0))
Please consider case sensitivity while giving your solution capital letter ≠ small letter
If it is a string don't write quotes in the solution.

df = (dataset.loc[::2,::2])

print(df.iloc[255,3])

dataset



6. Determine the number of samples (rows) in the dataset that belong to the six most recent years, based on the provided data.

dataset.query("Year==[2017,2018, 2019, 2020, 2021,2022] ").shape[0]

7. Determine the number of samples (rows) in the dataset which has num_rooms = 3 and num_bathrooms = 3


dataset.query("num_rooms == 3 & num_bathrooms == 3 ").shape[0]

8. Determine the number of samples (rows) in the dataset which has num_rooms = 3 or num_bathrooms = 3

dataset.query("num_rooms == 3 or num_bathrooms == 3 ").shape[0]

9. In the Year 2022, how many houses (rows) located in the Greenwich Locality have exactly num_room == 3, and facing towards either the North or East?

dataset.query("Year == 2022 & Locality == 'Greenwich' & num_rooms == 3 & (Face == 'North' or Face == 'East') " ).shape[0]

10. Calculate the number of samples(rows) that correspond to the month of August across all the years.?


dataset['Month'] = pd.DatetimeIndex(dataset['Date']).month

dataset.query("Month == 8 ").shape[0]

11. According to the data which Locality have highest average Sale Price?

avg_price = dataset.groupby('Locality')['Sale Price'].agg(np.mean)
avg_price.idxmax
